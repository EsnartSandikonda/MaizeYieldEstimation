{
  "cells": [
    {
      "cell_type": "code",
      "execution_count": 1,
      "metadata": {},
      "outputs": [],
      "source": [
        "import os\n",
        "from datetime import datetime\n",
        "import numpy as np\n",
        "import pandas as pd\n",
        "import rasterio\n",
        "import matplotlib.pyplot as plt\n",
        "from sklearn.linear_model import LinearRegression\n",
        "from sklearn.metrics import r2_score, mean_squared_error"
      ]
    },
    {
      "cell_type": "code",
      "execution_count": 2,
      "metadata": {},
      "outputs": [
        {
          "name": "stdout",
          "output_type": "stream",
          "text": [
            "Raw per-image features:\n",
            "  polygon       date                           filename  mean_NDVI  \\\n",
            "0  Munda1 2024-11-01  M225polygon_20241101_20241201.tif   0.206814   \n",
            "1  Munda1 2024-12-01  M225polygon_20241201_20241231.tif   0.206242   \n",
            "2  Munda1 2024-12-31  M225polygon_20241231_20250130.tif   0.185444   \n",
            "3  Munda1 2025-01-30  M225polygon_20250130_20250301.tif   0.729419   \n",
            "4  Munda1 2025-03-01  M225polygon_20250301_20250331.tif   0.778799   \n",
            "\n",
            "   mean_GNDVI  mean_SAVI  mean_Red  mean_Green  mean_NIR  \n",
            "0    0.371228   0.135172  0.144996    0.100801  0.219772  \n",
            "1    0.375800   0.136134  0.148264    0.101769  0.224214  \n",
            "2    0.279439   0.129196  0.167590    0.137188  0.243356  \n",
            "3    0.660060   0.482791  0.049627    0.065091  0.319557  \n",
            "4    0.689015   0.544887  0.045231    0.067138  0.365658  \n"
          ]
        }
      ],
      "source": [
        "# Base folder containing polygon folders\n",
        "base_folder = r\"D:\\Yield\\LR\\SentinelData\"\n",
        "\n",
        "# Polygon folders to process\n",
        "polygon_folders = ['Munda1', 'Munda2', 'Munda3', 'Munda4', 'Munda5', 'Munda6', 'Munda7']\n",
        "\n",
        "# Store results\n",
        "records = []\n",
        "\n",
        "for poly in polygon_folders:\n",
        "    folder_path = os.path.join(base_folder, poly)\n",
        "    files = [f for f in os.listdir(folder_path) if f.endswith('.tif')]\n",
        "    files.sort()\n",
        "\n",
        "    for file in files:\n",
        "        file_path = os.path.join(folder_path, file)\n",
        "        with rasterio.open(file_path) as src:\n",
        "            red = src.read(4).astype('float32')\n",
        "            green = src.read(3).astype('float32')\n",
        "            nir = src.read(8).astype('float32')\n",
        "\n",
        "        # Vegetation Indices\n",
        "        ndvi = (nir - red) / (nir + red + 1e-10)\n",
        "        gndvi = (nir - green) / (nir + green + 1e-10)\n",
        "        savi = ((nir - red) / (nir + red + 0.428)) * 1.428  # L=0.428\n",
        "\n",
        "        # Mask invalid VI values\n",
        "        ndvi = np.where((ndvi >= -1) & (ndvi <= 1), ndvi, np.nan)\n",
        "        gndvi = np.where((gndvi >= -1) & (gndvi <= 1), gndvi, np.nan)\n",
        "        savi = np.where((savi >= -1) & (savi <= 1), savi, np.nan)\n",
        "\n",
        "        # Calculate VI means\n",
        "        mean_ndvi = np.nanmean(ndvi)\n",
        "        mean_gndvi = np.nanmean(gndvi)\n",
        "        mean_savi = np.nanmean(savi)\n",
        "\n",
        "        # === NEW: Calculate mean reflectance of raw bands ===\n",
        "        mean_red = np.nanmean(red)\n",
        "        mean_green = np.nanmean(green)\n",
        "        mean_nir = np.nanmean(nir)\n",
        "\n",
        "        # Extract date\n",
        "        try:\n",
        "            date_str = file.split('_')[1]\n",
        "            date = datetime.strptime(date_str, \"%Y%m%d\")\n",
        "        except Exception:\n",
        "            date = None\n",
        "\n",
        "        # Append results\n",
        "        records.append({\n",
        "            'polygon': poly,\n",
        "            'date': date,\n",
        "            'filename': file,\n",
        "            'mean_NDVI': mean_ndvi,\n",
        "            'mean_GNDVI': mean_gndvi,\n",
        "            'mean_SAVI': mean_savi,\n",
        "            'mean_Red': mean_red,\n",
        "            'mean_Green': mean_green,\n",
        "            'mean_NIR': mean_nir\n",
        "        })\n",
        "\n",
        "# Create DataFrame\n",
        "df_indices = pd.DataFrame(records)\n",
        "print(\"Raw per-image features:\")\n",
        "print(df_indices.head())\n"
      ]
    },
    {
      "cell_type": "code",
      "execution_count": 3,
      "metadata": {},
      "outputs": [
        {
          "name": "stdout",
          "output_type": "stream",
          "text": [
            "Merged vegetation index + area data:\n",
            "  polygon       date                           filename  mean_NDVI  \\\n",
            "0  Munda1 2024-11-01  M225polygon_20241101_20241201.tif   0.206814   \n",
            "1  Munda1 2024-12-01  M225polygon_20241201_20241231.tif   0.206242   \n",
            "2  Munda1 2024-12-31  M225polygon_20241231_20250130.tif   0.185444   \n",
            "3  Munda1 2025-01-30  M225polygon_20250130_20250301.tif   0.729419   \n",
            "4  Munda1 2025-03-01  M225polygon_20250301_20250331.tif   0.778799   \n",
            "\n",
            "   mean_GNDVI  mean_SAVI  mean_Red  mean_Green  mean_NIR   area_ha  \n",
            "0    0.371228   0.135172  0.144996    0.100801  0.219772  0.101974  \n",
            "1    0.375800   0.136134  0.148264    0.101769  0.224214  0.101974  \n",
            "2    0.279439   0.129196  0.167590    0.137188  0.243356  0.101974  \n",
            "3    0.660060   0.482791  0.049627    0.065091  0.319557  0.101974  \n",
            "4    0.689015   0.544887  0.045231    0.067138  0.365658  0.101974  \n"
          ]
        }
      ],
      "source": [
        "# Load area data\n",
        "df_area = pd.read_csv(\"polygon_areas.csv\")\n",
        "\n",
        "# Merge area with vegetation index data\n",
        "df_indices = pd.merge(df_indices, df_area, on='polygon', how='left')\n",
        "\n",
        "# Check for any polygons without area info\n",
        "missing_area = df_indices[df_indices['area_ha'].isna()]\n",
        "if not missing_area.empty:\n",
        "    print(\"Warning: Some polygons are missing area values:\")\n",
        "    print(missing_area['polygon'].unique())\n",
        "\n",
        "# Show result\n",
        "print(\"Merged vegetation index + area data:\")\n",
        "print(df_indices.head())\n"
      ]
    },
    {
      "cell_type": "code",
      "execution_count": 4,
      "metadata": {},
      "outputs": [
        {
          "name": "stdout",
          "output_type": "stream",
          "text": [
            "Available columns: ['polygon', 'date', 'filename', 'mean_NDVI', 'mean_GNDVI', 'mean_SAVI', 'mean_Red', 'mean_Green', 'mean_NIR', 'area_ha', 'yield_tons']\n",
            "Per-image data ready for modeling:\n",
            "  polygon       date                           filename  mean_NDVI  \\\n",
            "0  Munda1 2024-11-01  M225polygon_20241101_20241201.tif   0.206814   \n",
            "1  Munda1 2024-12-01  M225polygon_20241201_20241231.tif   0.206242   \n",
            "2  Munda1 2024-12-31  M225polygon_20241231_20250130.tif   0.185444   \n",
            "3  Munda1 2025-01-30  M225polygon_20250130_20250301.tif   0.729419   \n",
            "4  Munda1 2025-03-01  M225polygon_20250301_20250331.tif   0.778799   \n",
            "\n",
            "   mean_GNDVI  mean_SAVI  mean_Red  mean_Green  mean_NIR   area_ha  yield_tons  \n",
            "0    0.371228   0.135172  0.144996    0.100801  0.219772  0.101974         0.9  \n",
            "1    0.375800   0.136134  0.148264    0.101769  0.224214  0.101974         0.9  \n",
            "2    0.279439   0.129196  0.167590    0.137188  0.243356  0.101974         0.9  \n",
            "3    0.660060   0.482791  0.049627    0.065091  0.319557  0.101974         0.9  \n",
            "4    0.689015   0.544887  0.045231    0.067138  0.365658  0.101974         0.9  \n"
          ]
        }
      ],
      "source": [
        "df_yield = pd.read_csv(\"yield_tons.csv\")\n",
        "\n",
        "# Merge with yield data\n",
        "df = pd.merge(df_indices, df_yield, on='polygon', how='inner')\n",
        "\n",
        "# Check which columns exist\n",
        "print(\"Available columns:\", df.columns.tolist())\n",
        "\n",
        "# Drop rows with missing data including band means\n",
        "df = df.dropna(subset=[\n",
        "    'mean_NDVI', 'mean_GNDVI', 'mean_SAVI', \n",
        "    'mean_Red', 'mean_Green', 'mean_NIR', \n",
        "    'area_ha', 'yield_tons'\n",
        "])\n",
        "\n",
        "# Show preview\n",
        "print(\"Per-image data ready for modeling:\")\n",
        "print(df.head())\n"
      ]
    },
    {
      "cell_type": "code",
      "execution_count": 5,
      "metadata": {},
      "outputs": [
        {
          "name": "stdout",
          "output_type": "stream",
          "text": [
            "Image-level training dataset:\n",
            "  polygon  mean_NDVI  mean_GNDVI  mean_SAVI  mean_Red  mean_Green  mean_NIR  \\\n",
            "0  Munda1   0.206814    0.371228   0.135172  0.144996    0.100801  0.219772   \n",
            "1  Munda1   0.206242    0.375800   0.136134  0.148264    0.101769  0.224214   \n",
            "2  Munda1   0.185444    0.279439   0.129196  0.167590    0.137188  0.243356   \n",
            "3  Munda1   0.729419    0.660060   0.482791  0.049627    0.065091  0.319557   \n",
            "4  Munda1   0.778799    0.689015   0.544887  0.045231    0.067138  0.365658   \n",
            "\n",
            "    area_ha  yield_tons       date                           filename  \n",
            "0  0.101974         0.9 2024-11-01  M225polygon_20241101_20241201.tif  \n",
            "1  0.101974         0.9 2024-12-01  M225polygon_20241201_20241231.tif  \n",
            "2  0.101974         0.9 2024-12-31  M225polygon_20241231_20250130.tif  \n",
            "3  0.101974         0.9 2025-01-30  M225polygon_20250130_20250301.tif  \n",
            "4  0.101974         0.9 2025-03-01  M225polygon_20250301_20250331.tif  \n"
          ]
        }
      ],
      "source": [
        "# Select only the columns needed for training\n",
        "df_summary = df[[\n",
        "    'polygon',\n",
        "    'mean_NDVI',\n",
        "    'mean_GNDVI',\n",
        "    'mean_SAVI',\n",
        "    'mean_Red',\n",
        "    'mean_Green',\n",
        "    'mean_NIR',\n",
        "    'area_ha',\n",
        "    'yield_tons',\n",
        "    'date',\n",
        "    'filename'\n",
        "]]\n",
        "\n",
        "# Drop rows with missing values (optional clean-up)\n",
        "df_summary = df_summary.dropna()\n",
        "\n",
        "# Show the final table\n",
        "print(\"Image-level training dataset:\")\n",
        "print(df_summary.head())\n"
      ]
    },
    {
      "cell_type": "code",
      "execution_count": 6,
      "metadata": {},
      "outputs": [
        {
          "name": "stdout",
          "output_type": "stream",
          "text": [
            "Image-level Model Performance:\n",
            "R² Score: 0.4063\n",
            "RMSE (tons/ha): 0.3537\n",
            "MAE (tons/ha): 0.2865\n"
          ]
        },
        {
          "name": "stderr",
          "output_type": "stream",
          "text": [
            "c:\\Users\\Dell\\AppData\\Local\\Programs\\Python\\Python312\\Lib\\site-packages\\sklearn\\metrics\\_regression.py:492: FutureWarning: 'squared' is deprecated in version 1.4 and will be removed in 1.6. To calculate the root mean squared error, use the function'root_mean_squared_error'.\n",
            "  warnings.warn(\n"
          ]
        }
      ],
      "source": [
        "from sklearn.linear_model import LinearRegression\n",
        "from sklearn.metrics import r2_score, mean_squared_error, mean_absolute_error\n",
        "\n",
        "# Define features to use for training\n",
        "features = [\n",
        "    'mean_NDVI',\n",
        "    'mean_GNDVI',\n",
        "    'mean_SAVI',\n",
        "    'mean_Red',\n",
        "    'mean_Green',\n",
        "    'mean_NIR'\n",
        "]\n",
        "\n",
        "# Drop any rows with missing values in these features (safety check)\n",
        "df_summary = df_summary.dropna(subset=features + ['yield_tons'])\n",
        "\n",
        "# Define input (X) and output (y)\n",
        "X = df_summary[features]\n",
        "y = df_summary['yield_tons']  # Already in tons/ha\n",
        "\n",
        "# Train linear regression model\n",
        "model = LinearRegression()\n",
        "model.fit(X, y)\n",
        "\n",
        "# Predict on training data\n",
        "y_pred = model.predict(X)\n",
        "\n",
        "# Evaluate model\n",
        "r2 = r2_score(y, y_pred)\n",
        "rmse = mean_squared_error(y, y_pred, squared=False)\n",
        "mae = mean_absolute_error(y, y_pred)\n",
        "\n",
        "# Print performance\n",
        "print(\"Image-level Model Performance:\")\n",
        "print(f\"R² Score: {r2:.4f}\")\n",
        "print(f\"RMSE (tons/ha): {rmse:.4f}\")\n",
        "print(f\"MAE (tons/ha): {mae:.4f}\")\n"
      ]
    },
    {
      "cell_type": "code",
      "execution_count": 9,
      "metadata": {},
      "outputs": [
        {
          "name": "stdout",
          "output_type": "stream",
          "text": [
            "\n",
            "Average predicted yield per hectare for Munda6: 1.287 tons/ha\n"
          ]
        }
      ],
      "source": [
        "# Filter only Munda6 images from the df_indices DataFrame,\n",
        "# which has already been merged with polygon_areas.csv\n",
        "df_munda6 = df_indices[df_indices['polygon'] == 'Munda6'].copy()\n",
        "\n",
        "# Check if Munda6 data is actually present for prediction\n",
        "if df_munda6.empty:\n",
        "    print(\"Error: No Munda6 data found in df_indices for prediction. Ensure it loaded correctly in earlier steps.\")\n",
        "else:\n",
        "    # Predict yield per hectare for each Munda6 image\n",
        "    # Only pass the 'features' columns to the model for prediction\n",
        "    df_munda6['predicted_yield_per_ha'] = model.predict(df_munda6[features])\n",
        "\n",
        "    # Calculate average predicted yield per hectare across all Munda6 images\n",
        "    avg_predicted_yield_per_ha = df_munda6['predicted_yield_per_ha'].mean()\n",
        "\n",
        "    print(f\"\\nAverage predicted yield per hectare for Munda6: {avg_predicted_yield_per_ha:.3f} tons/ha\")"
      ]
    }
  ],
  "metadata": {
    "accelerator": "GPU",
    "colab": {
      "provenance": []
    },
    "kernelspec": {
      "display_name": "Python 3",
      "name": "python3"
    },
    "language_info": {
      "codemirror_mode": {
        "name": "ipython",
        "version": 3
      },
      "file_extension": ".py",
      "mimetype": "text/x-python",
      "name": "python",
      "nbconvert_exporter": "python",
      "pygments_lexer": "ipython3",
      "version": "3.12.4"
    },
    "vscode": {
      "interpreter": {
        "hash": "1a3bd1f7527235d395ee2c430f9d8a2e674cce37f5b8953fb2e12628b1780f35"
      }
    }
  },
  "nbformat": 4,
  "nbformat_minor": 0
}
