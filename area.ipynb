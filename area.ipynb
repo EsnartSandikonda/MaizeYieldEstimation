{
 "cells": [
  {
   "cell_type": "code",
   "execution_count": null,
   "id": "16384755",
   "metadata": {},
   "outputs": [
    {
     "name": "stdout",
     "output_type": "stream",
     "text": [
      "  polygon   area_ha\n",
      "0  Munda1  0.101974\n",
      "1  Munda2  0.339510\n",
      "2  Munda3  0.308073\n",
      "3  Munda4  0.289367\n",
      "4  Munda5  0.185417\n",
      "5  Munda6  0.062530\n",
      "6  Munda7  2.286050\n",
      "7  Munda8  0.111661\n"
     ]
    }
   ],
   "source": [
    "import os\n",
    "import geopandas as gpd\n",
    "import pandas as pd\n",
    "\n",
    "# Path to your folder\n",
    "folder_path = r\"D:\\Yield\\LR\\Minda\"\n",
    "\n",
    "# List to hold area records\n",
    "area_records = []\n",
    "\n",
    "# Loop through all GPKG files in the folder\n",
    "for file in os.listdir(folder_path):\n",
    "    if file.endswith(\".gpkg\"):\n",
    "        file_path = os.path.join(folder_path, file)\n",
    "\n",
    "        # Load GeoPackage\n",
    "        gdf = gpd.read_file(file_path)\n",
    "\n",
    "        # Reproject if CRS is geographic (degrees)\n",
    "        if gdf.crs.is_geographic:\n",
    "            gdf = gdf.to_crs(epsg=32736)  # UTM zone 36S\n",
    "\n",
    "        # Calculate total area in hectares\n",
    "        total_area_m2 = gdf.geometry.area.sum()\n",
    "        total_area_ha = total_area_m2 / 10000.0\n",
    "\n",
    "        # Get polygon name from filename (without extension)\n",
    "        polygon_name = os.path.splitext(file)[0]\n",
    "\n",
    "        # Store result\n",
    "        area_records.append({'polygon': polygon_name, 'area_ha': total_area_ha})\n",
    "\n",
    "# Create DataFrame\n",
    "df_area = pd.DataFrame(area_records)\n",
    "\n",
    "# Save to CSV for use in main notebook\n",
    "df_area.to_csv(\"polygon_areas.csv\", index=False)\n",
    "\n",
    "# (Optional) Display the DataFrame\n",
    "print(df_area)\n"
   ]
  }
 ],
 "metadata": {
  "kernelspec": {
   "display_name": "Python 3",
   "language": "python",
   "name": "python3"
  },
  "language_info": {
   "codemirror_mode": {
    "name": "ipython",
    "version": 3
   },
   "file_extension": ".py",
   "mimetype": "text/x-python",
   "name": "python",
   "nbconvert_exporter": "python",
   "pygments_lexer": "ipython3",
   "version": "3.12.4"
  }
 },
 "nbformat": 4,
 "nbformat_minor": 5
}
